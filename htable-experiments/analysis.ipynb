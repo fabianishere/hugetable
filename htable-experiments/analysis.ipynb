{
 "cells": [
  {
   "cell_type": "markdown",
   "metadata": {},
   "source": [
    "# IN4391 Distributed Systems - HugeTable\n",
    "This notebook contains the analysis scripts for the experimental data we obtained with HugeTable."
   ]
  },
  {
   "cell_type": "code",
   "execution_count": 2,
   "metadata": {},
   "outputs": [],
   "source": [
    "import json\n",
    "import glob\n",
    "\n",
    "import numpy as np\n",
    "import pandas as pd\n",
    "\n",
    "import seaborn as sns; sns.set()\n",
    "import matplotlib.pyplot as plt"
   ]
  },
  {
   "cell_type": "code",
   "execution_count": 32,
   "metadata": {},
   "outputs": [
    {
     "data": {
      "text/html": [
       "<div>\n",
       "<style scoped>\n",
       "    .dataframe tbody tr th:only-of-type {\n",
       "        vertical-align: middle;\n",
       "    }\n",
       "\n",
       "    .dataframe tbody tr th {\n",
       "        vertical-align: top;\n",
       "    }\n",
       "\n",
       "    .dataframe thead th {\n",
       "        text-align: right;\n",
       "    }\n",
       "</style>\n",
       "<table border=\"1\" class=\"dataframe\">\n",
       "  <thead>\n",
       "    <tr style=\"text-align: right;\">\n",
       "      <th></th>\n",
       "      <th>trial</th>\n",
       "      <th>duration</th>\n",
       "      <th>load-balancer</th>\n",
       "      <th>num-servers</th>\n",
       "      <th>throughput</th>\n",
       "      <th>timings</th>\n",
       "    </tr>\n",
       "  </thead>\n",
       "  <tbody>\n",
       "    <tr>\n",
       "      <th>0</th>\n",
       "      <td>1</td>\n",
       "      <td>44197</td>\n",
       "      <td>min-tablets</td>\n",
       "      <td>4</td>\n",
       "      <td>2262.597009</td>\n",
       "      <td>[78, 23, 18, 22, 18, 19, 24, 17, 14, 12, 11, 1...</td>\n",
       "    </tr>\n",
       "    <tr>\n",
       "      <th>1</th>\n",
       "      <td>2</td>\n",
       "      <td>38733</td>\n",
       "      <td>min-tablets</td>\n",
       "      <td>4</td>\n",
       "      <td>2581.777812</td>\n",
       "      <td>[17, 3, 4, 3, 3, 5, 3, 3, 3, 2, 3, 2, 2, 2, 2,...</td>\n",
       "    </tr>\n",
       "    <tr>\n",
       "      <th>2</th>\n",
       "      <td>3</td>\n",
       "      <td>42127</td>\n",
       "      <td>min-tablets</td>\n",
       "      <td>4</td>\n",
       "      <td>2373.774539</td>\n",
       "      <td>[14, 3, 8, 3, 3, 5, 3, 2, 2, 2, 2, 2, 2, 1, 2,...</td>\n",
       "    </tr>\n",
       "    <tr>\n",
       "      <th>3</th>\n",
       "      <td>4</td>\n",
       "      <td>37876</td>\n",
       "      <td>min-tablets</td>\n",
       "      <td>4</td>\n",
       "      <td>2640.194318</td>\n",
       "      <td>[21, 2, 2, 1, 2, 2, 1, 2, 2, 1, 2, 1, 2, 4, 1,...</td>\n",
       "    </tr>\n",
       "    <tr>\n",
       "      <th>0</th>\n",
       "      <td>1</td>\n",
       "      <td>44118</td>\n",
       "      <td>round-robin</td>\n",
       "      <td>1</td>\n",
       "      <td>2266.648533</td>\n",
       "      <td>[58, 22, 19, 17, 15, 18, 28, 13, 18, 13, 11, 1...</td>\n",
       "    </tr>\n",
       "    <tr>\n",
       "      <th>1</th>\n",
       "      <td>2</td>\n",
       "      <td>42553</td>\n",
       "      <td>round-robin</td>\n",
       "      <td>1</td>\n",
       "      <td>2350.010575</td>\n",
       "      <td>[12, 8, 3, 2, 3, 2, 3, 2, 3, 2, 3, 2, 2, 3, 2,...</td>\n",
       "    </tr>\n",
       "    <tr>\n",
       "      <th>2</th>\n",
       "      <td>3</td>\n",
       "      <td>42364</td>\n",
       "      <td>round-robin</td>\n",
       "      <td>1</td>\n",
       "      <td>2360.494760</td>\n",
       "      <td>[29, 5, 2, 3, 2, 3, 2, 3, 2, 2, 2, 1, 2, 2, 2,...</td>\n",
       "    </tr>\n",
       "    <tr>\n",
       "      <th>3</th>\n",
       "      <td>4</td>\n",
       "      <td>43692</td>\n",
       "      <td>round-robin</td>\n",
       "      <td>1</td>\n",
       "      <td>2288.748512</td>\n",
       "      <td>[35, 3, 3, 3, 2, 2, 2, 2, 2, 2, 2, 1, 2, 2, 2,...</td>\n",
       "    </tr>\n",
       "    <tr>\n",
       "      <th>0</th>\n",
       "      <td>1</td>\n",
       "      <td>43374</td>\n",
       "      <td>min-tablets</td>\n",
       "      <td>2</td>\n",
       "      <td>2305.528658</td>\n",
       "      <td>[55, 28, 20, 17, 26, 13, 18, 15, 13, 15, 12, 1...</td>\n",
       "    </tr>\n",
       "    <tr>\n",
       "      <th>1</th>\n",
       "      <td>2</td>\n",
       "      <td>42174</td>\n",
       "      <td>min-tablets</td>\n",
       "      <td>2</td>\n",
       "      <td>2371.129132</td>\n",
       "      <td>[13, 4, 3, 3, 4, 3, 3, 2, 3, 2, 2, 2, 2, 3, 2,...</td>\n",
       "    </tr>\n",
       "    <tr>\n",
       "      <th>2</th>\n",
       "      <td>3</td>\n",
       "      <td>42608</td>\n",
       "      <td>min-tablets</td>\n",
       "      <td>2</td>\n",
       "      <td>2346.977094</td>\n",
       "      <td>[35, 3, 3, 2, 1, 2, 2, 2, 2, 2, 2, 2, 2, 2, 2,...</td>\n",
       "    </tr>\n",
       "    <tr>\n",
       "      <th>3</th>\n",
       "      <td>4</td>\n",
       "      <td>43791</td>\n",
       "      <td>min-tablets</td>\n",
       "      <td>2</td>\n",
       "      <td>2283.574250</td>\n",
       "      <td>[8, 3, 2, 1, 2, 2, 2, 1, 2, 2, 1, 2, 2, 3, 2, ...</td>\n",
       "    </tr>\n",
       "  </tbody>\n",
       "</table>\n",
       "</div>"
      ],
      "text/plain": [
       "  trial duration load-balancer num-servers   throughput  \\\n",
       "0     1    44197   min-tablets           4  2262.597009   \n",
       "1     2    38733   min-tablets           4  2581.777812   \n",
       "2     3    42127   min-tablets           4  2373.774539   \n",
       "3     4    37876   min-tablets           4  2640.194318   \n",
       "0     1    44118   round-robin           1  2266.648533   \n",
       "1     2    42553   round-robin           1  2350.010575   \n",
       "2     3    42364   round-robin           1  2360.494760   \n",
       "3     4    43692   round-robin           1  2288.748512   \n",
       "0     1    43374   min-tablets           2  2305.528658   \n",
       "1     2    42174   min-tablets           2  2371.129132   \n",
       "2     3    42608   min-tablets           2  2346.977094   \n",
       "3     4    43791   min-tablets           2  2283.574250   \n",
       "\n",
       "                                             timings  \n",
       "0  [78, 23, 18, 22, 18, 19, 24, 17, 14, 12, 11, 1...  \n",
       "1  [17, 3, 4, 3, 3, 5, 3, 3, 3, 2, 3, 2, 2, 2, 2,...  \n",
       "2  [14, 3, 8, 3, 3, 5, 3, 2, 2, 2, 2, 2, 2, 1, 2,...  \n",
       "3  [21, 2, 2, 1, 2, 2, 1, 2, 2, 1, 2, 1, 2, 4, 1,...  \n",
       "0  [58, 22, 19, 17, 15, 18, 28, 13, 18, 13, 11, 1...  \n",
       "1  [12, 8, 3, 2, 3, 2, 3, 2, 3, 2, 3, 2, 2, 3, 2,...  \n",
       "2  [29, 5, 2, 3, 2, 3, 2, 3, 2, 2, 2, 1, 2, 2, 2,...  \n",
       "3  [35, 3, 3, 3, 2, 2, 2, 2, 2, 2, 2, 1, 2, 2, 2,...  \n",
       "0  [55, 28, 20, 17, 26, 13, 18, 15, 13, 15, 12, 1...  \n",
       "1  [13, 4, 3, 3, 4, 3, 3, 2, 3, 2, 2, 2, 2, 3, 2,...  \n",
       "2  [35, 3, 3, 2, 1, 2, 2, 2, 2, 2, 2, 2, 2, 2, 2,...  \n",
       "3  [8, 3, 2, 1, 2, 2, 2, 1, 2, 2, 1, 2, 2, 3, 2, ...  "
      ]
     },
     "execution_count": 32,
     "metadata": {},
     "output_type": "execute_result"
    }
   ],
   "source": [
    "df = pd.DataFrame(columns = [\"trial\", \"duration\", \"load-balancer\", \"num-servers\", \"throughput\", \"timings\"])\n",
    "for file in glob.glob('data/experiment-write-*.json'):\n",
    "    with open(file, 'r') as fd:\n",
    "        res = json.load(fd)\n",
    "        df = pd.concat([df, pd.DataFrame(res)])"
   ]
  },
  {
   "cell_type": "code",
   "execution_count": 37,
   "metadata": {},
   "outputs": [
    {
     "data": {
      "image/png": "[encoded data removed]",
      "text/plain": [
       "<Figure size 432x288 with 1 Axes>"
      ]
     },
     "metadata": {},
     "output_type": "display_data"
    }
   ],
   "source": [
    "ax = sns.boxplot(x=\"num-servers\", y=\"throughput\", data=df,\n",
    "            whis=\"range\", palette=\"vlag\")\n",
    "ax.set_ylabel(\"Writes per second\")\n",
    "ax.set_xlabel(\"Number of Tablet Servers\")\n",
    "\n",
    "plt.savefig('throughput-write.pdf')"
   ]
  },
  {
   "cell_type": "code",
   "execution_count": 43,
   "metadata": {},
   "outputs": [
    {
     "data": {
      "image/png": "[encoded data removed]",
      "text/plain": [
       "<Figure size 489.6x367.2 with 3 Axes>"
      ]
     },
     "metadata": {},
     "output_type": "display_data"
    }
   ],
   "source": [
    "g = sns.FacetGrid(df.explode('timings'), row=\"num-servers\",\n",
    "                  height=1.7, aspect=4,)\n",
    "g.map(sns.kdeplot, \"timings\");\n",
    "g.axes[0,0].set_ylabel('%')\n",
    "g.axes[0,0].set_title('1 tablet server')\n",
    "g.axes[1,0].set_ylabel('%')\n",
    "g.axes[1,0].set_title('2 tablet servers')\n",
    "g.axes[2,0].set_ylabel('%')\n",
    "g.axes[2,0].set_title('4 tablet server')\n",
    "g.axes[2,0].set_xlabel('Duration [ms]');\n",
    "plt.savefig('latency-write.pdf');"
   ]
  },
  {
   "cell_type": "code",
   "execution_count": null,
   "metadata": {},
   "outputs": [],
   "source": [
    "df = pd.DataFrame(columns = [\"trial\", \"duration\", \"load-balancer\", \"num-servers\", \"throughput\", \"timings\"])\n",
    "for file in glob.glob('data/experiment-read-*.json'):\n",
    "    with open(file, 'r') as fd:\n",
    "        res = json.load(fd)\n",
    "        df = pd.concat([df, pd.DataFrame(res)])"
   ]
  },
  {
   "cell_type": "code",
   "execution_count": null,
   "metadata": {},
   "outputs": [],
   "source": [
    "ax = sns.boxplot(x=\"num-servers\", y=\"throughput\", data=df,\n",
    "            whis=\"range\", palette=\"vlag\")\n",
    "ax.set_ylabel(\"Reads per second\")\n",
    "ax.set_xlabel(\"Number of Tablet Servers\")\n",
    "\n",
    "plt.savefig('throughput-read.pdf')"
   ]
  },
  {
   "cell_type": "code",
   "execution_count": null,
   "metadata": {},
   "outputs": [],
   "source": [
    "g = sns.FacetGrid(df.explode('timings'), row=\"num-servers\",\n",
    "                  height=1.7, aspect=4,)\n",
    "g.map(sns.kdeplot, \"timings\");\n",
    "g.axes[0,0].set_ylabel('%')\n",
    "g.axes[0,0].set_title('1 tablet server')\n",
    "g.axes[1,0].set_ylabel('%')\n",
    "g.axes[1,0].set_title('2 tablet servers')\n",
    "g.axes[2,0].set_ylabel('%')\n",
    "g.axes[2,0].set_title('4 tablet server')\n",
    "g.axes[2,0].set_xlabel('Duration [ms]');\n",
    "plt.savefig('latency-read.pdf');"
   ]
  }
 ],
 "metadata": {
  "kernelspec": {
   "display_name": "Python 3",
   "language": "python",
   "name": "python3"
  },
  "language_info": {
   "codemirror_mode": {
    "name": "ipython",
    "version": 3
   },
   "file_extension": ".py",
   "mimetype": "text/x-python",
   "name": "python",
   "nbconvert_exporter": "python",
   "pygments_lexer": "ipython3",
   "version": "3.7.7"
  }
 },
 "nbformat": 4,
 "nbformat_minor": 2
}
